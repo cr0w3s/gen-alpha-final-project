{
 "cells": [
  {
   "cell_type": "markdown",
   "id": "59f79810-5b76-4364-b44c-102c4714911c",
   "metadata": {},
   "source": [
    "## Importing Libraries & Files"
   ]
  },
  {
   "cell_type": "code",
   "execution_count": 2,
   "id": "f8bf3816-00b2-4320-92bc-50d5c7f95b63",
   "metadata": {
    "tags": []
   },
   "outputs": [],
   "source": [
    "# import usual libraries\n",
    "import numpy as np\n",
    "import pandas as pd\n",
    "\n",
    "# to see entire output\n",
    "pd.set_option('display.max_columns', None)\n",
    "pd.set_option('display.max_rows', None)\n",
    "pd.set_option('display.max_colwidth', None)"
   ]
  },
  {
   "cell_type": "code",
   "execution_count": null,
   "id": "1bafa247-b557-4739-b0fa-e20d10c6a3b2",
   "metadata": {},
   "outputs": [],
   "source": [
    "# plot libraries\n",
    "import matplotlib.pyplot as plt\n",
    "import seaborn as sns"
   ]
  },
  {
   "cell_type": "code",
   "execution_count": 3,
   "id": "fe26b21f-0af1-4bf4-8d8e-b1f8f7e89884",
   "metadata": {
    "tags": []
   },
   "outputs": [],
   "source": [
    "age_pop_df = pd.read_csv('/Users/sashacrowe/codebase-ih/alpha_IHFP/population-by-age-group.csv') "
   ]
  },
  {
   "cell_type": "code",
   "execution_count": null,
   "id": "8ca720fa-a694-4916-93fa-3d0d23eb0296",
   "metadata": {},
   "outputs": [],
   "source": []
  },
  {
   "cell_type": "markdown",
   "id": "6aa1c517-c756-4f89-b749-0178f45d9ec0",
   "metadata": {},
   "source": [
    "### Population by Age Group Data\n",
    "**Source**: Our World in Data Org https://ourworldindata.org/grapher/population-by-age-group"
   ]
  },
  {
   "cell_type": "code",
   "execution_count": 4,
   "id": "98d60bf6-47cb-42ea-8148-be11a23c3a65",
   "metadata": {
    "tags": []
   },
   "outputs": [
    {
     "data": {
      "text/html": [
       "<div>\n",
       "<style scoped>\n",
       "    .dataframe tbody tr th:only-of-type {\n",
       "        vertical-align: middle;\n",
       "    }\n",
       "\n",
       "    .dataframe tbody tr th {\n",
       "        vertical-align: top;\n",
       "    }\n",
       "\n",
       "    .dataframe thead th {\n",
       "        text-align: right;\n",
       "    }\n",
       "</style>\n",
       "<table border=\"1\" class=\"dataframe\">\n",
       "  <thead>\n",
       "    <tr style=\"text-align: right;\">\n",
       "      <th></th>\n",
       "      <th>Entity</th>\n",
       "      <th>Code</th>\n",
       "      <th>Year</th>\n",
       "      <th>Population - Sex: all - Age: 65+ - Variant: estimates</th>\n",
       "      <th>Population - Sex: all - Age: 25-64 - Variant: estimates</th>\n",
       "      <th>Population - Sex: all - Age: 15-24 - Variant: estimates</th>\n",
       "      <th>Population - Sex: all - Age: 5-14 - Variant: estimates</th>\n",
       "      <th>Population - Sex: all - Age: 0-4 - Variant: estimates</th>\n",
       "    </tr>\n",
       "  </thead>\n",
       "  <tbody>\n",
       "    <tr>\n",
       "      <th>0</th>\n",
       "      <td>Afghanistan</td>\n",
       "      <td>AFG</td>\n",
       "      <td>1950</td>\n",
       "      <td>221587</td>\n",
       "      <td>2881750</td>\n",
       "      <td>1481165</td>\n",
       "      <td>1891648</td>\n",
       "      <td>1300032</td>\n",
       "    </tr>\n",
       "    <tr>\n",
       "      <th>1</th>\n",
       "      <td>Afghanistan</td>\n",
       "      <td>AFG</td>\n",
       "      <td>1951</td>\n",
       "      <td>225330</td>\n",
       "      <td>2914332</td>\n",
       "      <td>1503397</td>\n",
       "      <td>1931423</td>\n",
       "      <td>1304861</td>\n",
       "    </tr>\n",
       "    <tr>\n",
       "      <th>2</th>\n",
       "      <td>Afghanistan</td>\n",
       "      <td>AFG</td>\n",
       "      <td>1952</td>\n",
       "      <td>228860</td>\n",
       "      <td>2948438</td>\n",
       "      <td>1526378</td>\n",
       "      <td>1971722</td>\n",
       "      <td>1312385</td>\n",
       "    </tr>\n",
       "    <tr>\n",
       "      <th>3</th>\n",
       "      <td>Afghanistan</td>\n",
       "      <td>AFG</td>\n",
       "      <td>1953</td>\n",
       "      <td>232109</td>\n",
       "      <td>2982329</td>\n",
       "      <td>1548885</td>\n",
       "      <td>2008840</td>\n",
       "      <td>1324540</td>\n",
       "    </tr>\n",
       "    <tr>\n",
       "      <th>4</th>\n",
       "      <td>Afghanistan</td>\n",
       "      <td>AFG</td>\n",
       "      <td>1954</td>\n",
       "      <td>235141</td>\n",
       "      <td>3016447</td>\n",
       "      <td>1570535</td>\n",
       "      <td>2043247</td>\n",
       "      <td>1342583</td>\n",
       "    </tr>\n",
       "  </tbody>\n",
       "</table>\n",
       "</div>"
      ],
      "text/plain": [
       "        Entity Code  Year  \\\n",
       "0  Afghanistan  AFG  1950   \n",
       "1  Afghanistan  AFG  1951   \n",
       "2  Afghanistan  AFG  1952   \n",
       "3  Afghanistan  AFG  1953   \n",
       "4  Afghanistan  AFG  1954   \n",
       "\n",
       "   Population - Sex: all - Age: 65+ - Variant: estimates  \\\n",
       "0                                                 221587   \n",
       "1                                                 225330   \n",
       "2                                                 228860   \n",
       "3                                                 232109   \n",
       "4                                                 235141   \n",
       "\n",
       "   Population - Sex: all - Age: 25-64 - Variant: estimates  \\\n",
       "0                                                  2881750   \n",
       "1                                                  2914332   \n",
       "2                                                  2948438   \n",
       "3                                                  2982329   \n",
       "4                                                  3016447   \n",
       "\n",
       "   Population - Sex: all - Age: 15-24 - Variant: estimates  \\\n",
       "0                                                  1481165   \n",
       "1                                                  1503397   \n",
       "2                                                  1526378   \n",
       "3                                                  1548885   \n",
       "4                                                  1570535   \n",
       "\n",
       "   Population - Sex: all - Age: 5-14 - Variant: estimates  \\\n",
       "0                                                 1891648   \n",
       "1                                                 1931423   \n",
       "2                                                 1971722   \n",
       "3                                                 2008840   \n",
       "4                                                 2043247   \n",
       "\n",
       "   Population - Sex: all - Age: 0-4 - Variant: estimates  \n",
       "0                                                1300032  \n",
       "1                                                1304861  \n",
       "2                                                1312385  \n",
       "3                                                1324540  \n",
       "4                                                1342583  "
      ]
     },
     "execution_count": 4,
     "metadata": {},
     "output_type": "execute_result"
    }
   ],
   "source": [
    "age_pop_df.head()"
   ]
  },
  {
   "cell_type": "code",
   "execution_count": 8,
   "id": "bf23360f-a00d-4786-a04a-f268cea4cdb4",
   "metadata": {
    "tags": []
   },
   "outputs": [],
   "source": [
    "df_2023 = age_pop_df[age_pop_df['Year']==2023]"
   ]
  },
  {
   "cell_type": "code",
   "execution_count": 11,
   "id": "dd0105c4-d47b-4f44-83a1-d25da3be79eb",
   "metadata": {
    "tags": []
   },
   "outputs": [],
   "source": [
    "age65nup = df_2023[\"Population - Sex: all - Age: 65+ - Variant: estimates\"].sum()"
   ]
  },
  {
   "cell_type": "code",
   "execution_count": 12,
   "id": "67e44f37-3ff4-4422-911c-9f4632100494",
   "metadata": {
    "tags": []
   },
   "outputs": [],
   "source": [
    "ages25to64 = df_2023[\"Population - Sex: all - Age: 25-64 - Variant: estimates\"].sum()"
   ]
  },
  {
   "cell_type": "code",
   "execution_count": 13,
   "id": "22943550-d87e-4529-98fa-afef90463191",
   "metadata": {
    "tags": []
   },
   "outputs": [],
   "source": [
    "ages15to24 = df_2023[\"Population - Sex: all - Age: 15-24 - Variant: estimates\"].sum()"
   ]
  },
  {
   "cell_type": "code",
   "execution_count": 14,
   "id": "25a81f2d-03f2-46a0-b288-785a9d2dbfcc",
   "metadata": {
    "tags": []
   },
   "outputs": [],
   "source": [
    "ages5to14 = df_2023[\"Population - Sex: all - Age: 5-14 - Variant: estimates\"].sum()"
   ]
  },
  {
   "cell_type": "code",
   "execution_count": 15,
   "id": "dc4a075e-d89a-426f-b80f-2e8f2b9828ec",
   "metadata": {
    "tags": []
   },
   "outputs": [],
   "source": [
    "ages0to4 = df_2023[\"Population - Sex: all - Age: 0-4 - Variant: estimates\"].sum()"
   ]
  },
  {
   "cell_type": "code",
   "execution_count": 16,
   "id": "c3c4c6ff-76f6-4797-8b50-c70ac5c9de54",
   "metadata": {
    "tags": []
   },
   "outputs": [],
   "source": [
    "genalpha = ages5to14 + ages0to4"
   ]
  },
  {
   "cell_type": "code",
   "execution_count": 18,
   "id": "c0b99828-c9c9-4a30-8c4f-82351a3916a6",
   "metadata": {
    "tags": []
   },
   "outputs": [],
   "source": [
    "genznup = ages15to24 + ages25to64 + age65nup "
   ]
  },
  {
   "cell_type": "code",
   "execution_count": 20,
   "id": "7bd05034-e5a3-45bd-87b7-fac880075e56",
   "metadata": {
    "tags": []
   },
   "outputs": [
    {
     "data": {
      "text/plain": [
       "25.75"
      ]
     },
     "execution_count": 20,
     "metadata": {},
     "output_type": "execute_result"
    }
   ],
   "source": [
    "round((genalpha/(genalpha+genznup))*100,2)"
   ]
  },
  {
   "cell_type": "code",
   "execution_count": null,
   "id": "a3f85230-7946-4156-bf4a-08dcb91c2950",
   "metadata": {},
   "outputs": [],
   "source": []
  }
 ],
 "metadata": {
  "kernelspec": {
   "display_name": "Python 3 (ipykernel)",
   "language": "python",
   "name": "python3"
  },
  "language_info": {
   "codemirror_mode": {
    "name": "ipython",
    "version": 3
   },
   "file_extension": ".py",
   "mimetype": "text/x-python",
   "name": "python",
   "nbconvert_exporter": "python",
   "pygments_lexer": "ipython3",
   "version": "3.11.9"
  }
 },
 "nbformat": 4,
 "nbformat_minor": 5
}
